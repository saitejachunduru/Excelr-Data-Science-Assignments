{
  "nbformat": 4,
  "nbformat_minor": 0,
  "metadata": {
    "colab": {
      "provenance": []
    },
    "kernelspec": {
      "name": "python3",
      "display_name": "Python 3"
    },
    "language_info": {
      "name": "python"
    }
  },
  "cells": [
    {
      "cell_type": "code",
      "execution_count": 13,
      "metadata": {
        "colab": {
          "base_uri": "https://localhost:8080/"
        },
        "id": "3CAoYt_CXzF0",
        "outputId": "a9087aaf-7394-4578-a414-e0a92e406e46"
      },
      "outputs": [
        {
          "output_type": "stream",
          "name": "stdout",
          "text": [
            "Enter a number: 8\n",
            "8 is not a prime number\n"
          ]
        }
      ],
      "source": [
        "# Take input from the user\n",
        "n = int(input(\"Enter a number: \"))\n",
        "\n",
        "if n > 1:\n",
        "    # Assume the number is prime initially\n",
        "    is_prime = True\n",
        "\n",
        "    # Check divisibility from 2 to n-1\n",
        "    for i in range(2, n):\n",
        "        if n % i == 0:\n",
        "            # If divisible by any number, it's not prime\n",
        "            is_prime = False\n",
        "            break\n",
        "\n",
        "    if is_prime:\n",
        "        print(n, \"is a prime number\")\n",
        "    else:\n",
        "        print(n, \"is not a prime number\")\n",
        "else:\n",
        "    print(n, \"is not a prime number\")\n"
      ]
    },
    {
      "cell_type": "code",
      "source": [
        "# product of random numbers\n",
        "import random\n",
        "\n",
        "# Generate two random numbers between 1 and 10\n",
        "num1 = random.randint(1, 10)\n",
        "num2 = random.randint(1, 10)\n",
        "\n",
        "# Calculate the product of the two numbers\n",
        "product = num1 * num2\n",
        "\n",
        "# Ask the user to enter the product of the numbers\n",
        "user_input = int(input(f\"What is the product of {num1} and {num2}? \"))\n",
        "\n",
        "# Check if the user's answer is correct and print the result\n",
        "if user_input == product:\n",
        "    print(\"Correct!\")\n",
        "else:\n",
        "    print(\"Incorrect. The correct answer is:\", product)\n",
        "\n",
        "\n",
        "# this is being executed in other compilers but not here\n",
        "# showing TypeError: 'int' object is not callable"
      ],
      "metadata": {
        "id": "DyEdhBfcePxK"
      },
      "execution_count": null,
      "outputs": []
    },
    {
      "cell_type": "code",
      "source": [
        "#Exercise 3: Squares of Even/Odd Numbers\n",
        "\n",
        "# Iterate through the range from 100 to 200\n",
        "for num in range(100, 201):\n",
        "    # Check if the number is even\n",
        "    if num % 2 == 0:\n",
        "        # Calculate the square of the even number\n",
        "        square = num ** 2\n",
        "        # Print the square of the even number\n",
        "        print(f\"The square of {num} is {square}\")\n",
        "\n"
      ],
      "metadata": {
        "colab": {
          "base_uri": "https://localhost:8080/"
        },
        "id": "BcWSKx3FqpJp",
        "outputId": "92b3df36-351e-447d-8033-e4b43bd6fc84"
      },
      "execution_count": 41,
      "outputs": [
        {
          "output_type": "stream",
          "name": "stdout",
          "text": [
            "The square of 100 is 10000\n",
            "The square of 102 is 10404\n",
            "The square of 104 is 10816\n",
            "The square of 106 is 11236\n",
            "The square of 108 is 11664\n",
            "The square of 110 is 12100\n",
            "The square of 112 is 12544\n",
            "The square of 114 is 12996\n",
            "The square of 116 is 13456\n",
            "The square of 118 is 13924\n",
            "The square of 120 is 14400\n",
            "The square of 122 is 14884\n",
            "The square of 124 is 15376\n",
            "The square of 126 is 15876\n",
            "The square of 128 is 16384\n",
            "The square of 130 is 16900\n",
            "The square of 132 is 17424\n",
            "The square of 134 is 17956\n",
            "The square of 136 is 18496\n",
            "The square of 138 is 19044\n",
            "The square of 140 is 19600\n",
            "The square of 142 is 20164\n",
            "The square of 144 is 20736\n",
            "The square of 146 is 21316\n",
            "The square of 148 is 21904\n",
            "The square of 150 is 22500\n",
            "The square of 152 is 23104\n",
            "The square of 154 is 23716\n",
            "The square of 156 is 24336\n",
            "The square of 158 is 24964\n",
            "The square of 160 is 25600\n",
            "The square of 162 is 26244\n",
            "The square of 164 is 26896\n",
            "The square of 166 is 27556\n",
            "The square of 168 is 28224\n",
            "The square of 170 is 28900\n",
            "The square of 172 is 29584\n",
            "The square of 174 is 30276\n",
            "The square of 176 is 30976\n",
            "The square of 178 is 31684\n",
            "The square of 180 is 32400\n",
            "The square of 182 is 33124\n",
            "The square of 184 is 33856\n",
            "The square of 186 is 34596\n",
            "The square of 188 is 35344\n",
            "The square of 190 is 36100\n",
            "The square of 192 is 36864\n",
            "The square of 194 is 37636\n",
            "The square of 196 is 38416\n",
            "The square of 198 is 39204\n",
            "The square of 200 is 40000\n"
          ]
        }
      ]
    },
    {
      "cell_type": "code",
      "source": [
        "#Exercise 4: Word counter\n",
        "\n",
        "input_text = \"i have took data science program in excelr\"\n",
        "\n",
        "# Split the text into words\n",
        "words = input_text.split()\n",
        "\n",
        "# Initialize an empty dictionary to store word counts\n",
        "word_counts = {}\n",
        "\n",
        "# to count the occurrence of each word\n",
        "for word in words:\n",
        "    # Remove punctuation from the word\n",
        "    word = word.strip(\".,!?\")\n",
        "    # to Convert the word to lowercase to ignore case sensitivity\n",
        "    word = word.lower()\n",
        "    # Increment the count of the word in the dictionary\n",
        "    word_counts[word] = word_counts.get(word, 0) + 1\n",
        "\n",
        "# Print the word counts\n",
        "for word, count in word_counts.items():\n",
        "    print(f\"'{word}': {count}\")\n",
        "\n"
      ],
      "metadata": {
        "colab": {
          "base_uri": "https://localhost:8080/"
        },
        "id": "2VI0wm_pq_1T",
        "outputId": "30fa5b6c-73ea-4e36-8c71-146fa8bf3554"
      },
      "execution_count": 40,
      "outputs": [
        {
          "output_type": "stream",
          "name": "stdout",
          "text": [
            "'i': 1\n",
            "'have': 1\n",
            "'took': 1\n",
            "'data': 1\n",
            "'science': 1\n",
            "'program': 1\n",
            "'in': 1\n",
            "'excelr': 1\n"
          ]
        }
      ]
    },
    {
      "cell_type": "code",
      "source": [
        "#Exercise 5: Check for Palindrome\n",
        "def is_palindrome(s):\n",
        "    # Removing spaces and converting the string to lowercase\n",
        "    s = s.replace(\" \", \"\").lower()\n",
        "    # Reversing the string\n",
        "    reversed_s = s[::-1]\n",
        "    # Checking if the original string is equal to its reverse\n",
        "    return s == reversed_s\n",
        "\n",
        "# Test the function\n",
        "input_str = \"racecar\"\n",
        "print(is_palindrome(input_str))  # Output: True\n"
      ],
      "metadata": {
        "colab": {
          "base_uri": "https://localhost:8080/"
        },
        "id": "jU-zky00rsIQ",
        "outputId": "da8d3b15-87c0-48f3-afd4-497ba476f060"
      },
      "execution_count": 1,
      "outputs": [
        {
          "output_type": "stream",
          "name": "stdout",
          "text": [
            "True\n"
          ]
        }
      ]
    },
    {
      "cell_type": "code",
      "source": [],
      "metadata": {
        "id": "pqp1B5UdJVHc"
      },
      "execution_count": null,
      "outputs": []
    }
  ]
}